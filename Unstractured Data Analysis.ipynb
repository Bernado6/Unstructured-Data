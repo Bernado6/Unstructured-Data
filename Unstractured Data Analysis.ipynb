{
 "cells": [
  {
   "cell_type": "markdown",
   "id": "9230c235",
   "metadata": {},
   "source": [
    "# Unstructured Data Analysis Project"
   ]
  },
  {
   "cell_type": "markdown",
   "id": "9fb642c8",
   "metadata": {},
   "source": [
    "**Unstructured data analysis** refers to the process of extracting insights and meaningful information from unstructured data, such as text, images, and videos. Unlike structured data, which is organized in a specific format and can be easily analyzed using traditional statistical and analytical methods, unstructured data is typically not organized in a specific way and requires specialized tools and techniques to extract insights.\n",
    "\n",
    "There are several techniques and tools used in unstructured data analysis, including natural language processing (NLP), machine learning algorithms, and data visualization. Some common applications of unstructured data analysis include sentiment analysis of customer reviews, topic modeling of social media posts, and image recognition for medical imaging.\n",
    "\n",
    "NLP is one of the most widely used techniques in unstructured data analysis, which involves processing and analyzing human language data. NLP techniques can be used to extract and classify key topics, identify sentiment and emotion, and perform text summarization."
   ]
  },
  {
   "cell_type": "markdown",
   "id": "bda999a9",
   "metadata": {},
   "source": [
    "## Importing Required Libraries"
   ]
  },
  {
   "cell_type": "code",
   "execution_count": 1,
   "id": "2008467f",
   "metadata": {},
   "outputs": [],
   "source": [
    "import numpy as np\n",
    "import pandas as pd\n",
    "import seaborn as sns\n",
    "\n",
    "import matplotlib.pyplot as plt\n",
    "from matplotlib import pyplot\n",
    "\n",
    "import warnings\n",
    "%matplotlib inline\n",
    "\n",
    "warnings.filterwarnings(\"ignore\")"
   ]
  },
  {
   "cell_type": "code",
   "execution_count": 2,
   "id": "3740ab54",
   "metadata": {},
   "outputs": [
    {
     "name": "stderr",
     "output_type": "stream",
     "text": [
      "[nltk_data] Downloading package stopwords to\n",
      "[nltk_data]     C:\\Users\\hp\\AppData\\Roaming\\nltk_data...\n",
      "[nltk_data]   Package stopwords is already up-to-date!\n"
     ]
    }
   ],
   "source": [
    "\n",
    "import nltk\n",
    "nltk.download('stopwords')\n",
    "from nltk.tokenize import word_tokenize, sent_tokenize, TreebankWordTokenizer\n",
    "from nltk.corpus import stopwords\n",
    "from nltk.stem import PorterStemmer\n",
    "\n",
    "\n",
    "import sklearn\n",
    "from sklearn.model_selection import train_test_split\n",
    "from sklearn.linear_model import LogisticRegression\n",
    "from sklearn import svm\n",
    "from sklearn.svm import SVC\n",
    "from sklearn .ensemble import RandomForestClassifier, AdaBoostClassifier\n",
    "from sklearn.neural_network import MLPClassifier\n",
    "from sklearn.neighbors import KNeighborsClassifier\n",
    "from sklearn.tree import DecisionTreeClassifier\n",
    "from sklearn.naive_bayes import MultinomialNB\n",
    "from sklearn.feature_extraction.text import CountVectorizer, TfidfTransformer, TfidfVectorizer\n",
    "\n",
    "\n",
    "from sklearn.pipeline import  Pipeline\n",
    "\n",
    "\n",
    "from sklearn import metrics\n",
    "from sklearn.metrics import precision_score\n",
    "from sklearn.metrics import recall_score\n",
    "from sklearn.metrics import accuracy_score\n",
    "\n",
    "from collections import Counter\n",
    "from wordcloud import WordCloud\n",
    "\n",
    "\n",
    "\n"
   ]
  },
  {
   "cell_type": "markdown",
   "id": "d29476a5",
   "metadata": {},
   "source": [
    "## About Data\n",
    "\n",
    "### Context of the data\n",
    "The SMS Spam Collection is a set of SMS tagged messages that have been collected for SMS Spam research. It contains one set of SMS messages in English of `5,574 messages`, tagged acording being `ham (legitimate)` or `spam`.\n",
    "\n",
    "### Content of the data\n",
    "The files contain one message per line. Each line is composed by two columns: `v1` contains the label (ham or spam) and `v2` contains the raw text.\n",
    "\n",
    "This corpus has been collected from free or free for research sources at the Internet:\n",
    "\n",
    "* A collection of `425 SMS spam messages` was manually extracted from the Grumbletext Web site. This is a UK forum in which cell phone users make public claims about SMS spam messages, most of them without reporting the very spam message received. The identification of the text of spam messages in the claims is a very hard and time-consuming task, and it involved carefully scanning hundreds of web pages. The Grumbletext Web site is: [Web Link].\n",
    "*  A subset of `3,375 SMS` randomly chosen ham messages of the NUS SMS Corpus (NSC), which is a dataset of about 10,000 legitimate messages collected for research at the Department of Computer Science at the National University of Singapore. The messages largely originate from Singaporeans and mostly from students attending the University. These messages were collected from volunteers who were made aware that their contributions were going to be made publicly available. The NUS SMS Corpus is avalaible at: [Web Link].\n",
    "*  A list of `450 SMS` ham messages collected from Caroline Tag's PhD Thesis available at [Web Link].\n",
    "*  Finally, we have incorporated the SMS Spam Corpus v.0.1 Big. It has 1,002 SMS ham messages and 322 spam messages and it is public available at: [Web Link]. This corpus has been used in the following academic researches:"
   ]
  },
  {
   "cell_type": "markdown",
   "id": "6c8f2159",
   "metadata": {},
   "source": [
    "##  Importing Data"
   ]
  },
  {
   "cell_type": "code",
   "execution_count": 3,
   "id": "afaecf4f",
   "metadata": {},
   "outputs": [
    {
     "data": {
      "text/html": [
       "<div>\n",
       "<style scoped>\n",
       "    .dataframe tbody tr th:only-of-type {\n",
       "        vertical-align: middle;\n",
       "    }\n",
       "\n",
       "    .dataframe tbody tr th {\n",
       "        vertical-align: top;\n",
       "    }\n",
       "\n",
       "    .dataframe thead th {\n",
       "        text-align: right;\n",
       "    }\n",
       "</style>\n",
       "<table border=\"1\" class=\"dataframe\">\n",
       "  <thead>\n",
       "    <tr style=\"text-align: right;\">\n",
       "      <th></th>\n",
       "      <th>v1</th>\n",
       "      <th>v2</th>\n",
       "      <th>Unnamed: 2</th>\n",
       "      <th>Unnamed: 3</th>\n",
       "      <th>Unnamed: 4</th>\n",
       "    </tr>\n",
       "  </thead>\n",
       "  <tbody>\n",
       "    <tr>\n",
       "      <th>0</th>\n",
       "      <td>ham</td>\n",
       "      <td>Go until jurong point, crazy.. Available only ...</td>\n",
       "      <td>NaN</td>\n",
       "      <td>NaN</td>\n",
       "      <td>NaN</td>\n",
       "    </tr>\n",
       "    <tr>\n",
       "      <th>1</th>\n",
       "      <td>ham</td>\n",
       "      <td>Ok lar... Joking wif u oni...</td>\n",
       "      <td>NaN</td>\n",
       "      <td>NaN</td>\n",
       "      <td>NaN</td>\n",
       "    </tr>\n",
       "    <tr>\n",
       "      <th>2</th>\n",
       "      <td>spam</td>\n",
       "      <td>Free entry in 2 a wkly comp to win FA Cup fina...</td>\n",
       "      <td>NaN</td>\n",
       "      <td>NaN</td>\n",
       "      <td>NaN</td>\n",
       "    </tr>\n",
       "    <tr>\n",
       "      <th>3</th>\n",
       "      <td>ham</td>\n",
       "      <td>U dun say so early hor... U c already then say...</td>\n",
       "      <td>NaN</td>\n",
       "      <td>NaN</td>\n",
       "      <td>NaN</td>\n",
       "    </tr>\n",
       "    <tr>\n",
       "      <th>4</th>\n",
       "      <td>ham</td>\n",
       "      <td>Nah I don't think he goes to usf, he lives aro...</td>\n",
       "      <td>NaN</td>\n",
       "      <td>NaN</td>\n",
       "      <td>NaN</td>\n",
       "    </tr>\n",
       "  </tbody>\n",
       "</table>\n",
       "</div>"
      ],
      "text/plain": [
       "     v1                                                 v2 Unnamed: 2  \\\n",
       "0   ham  Go until jurong point, crazy.. Available only ...        NaN   \n",
       "1   ham                      Ok lar... Joking wif u oni...        NaN   \n",
       "2  spam  Free entry in 2 a wkly comp to win FA Cup fina...        NaN   \n",
       "3   ham  U dun say so early hor... U c already then say...        NaN   \n",
       "4   ham  Nah I don't think he goes to usf, he lives aro...        NaN   \n",
       "\n",
       "  Unnamed: 3 Unnamed: 4  \n",
       "0        NaN        NaN  \n",
       "1        NaN        NaN  \n",
       "2        NaN        NaN  \n",
       "3        NaN        NaN  \n",
       "4        NaN        NaN  "
      ]
     },
     "execution_count": 3,
     "metadata": {},
     "output_type": "execute_result"
    }
   ],
   "source": [
    "data = pd.read_csv('spam.csv',  encoding='latin-1')\n",
    "data.head()"
   ]
  },
  {
   "cell_type": "markdown",
   "id": "7d3b298d",
   "metadata": {},
   "source": [
    "## Checking Data dimension"
   ]
  },
  {
   "cell_type": "code",
   "execution_count": 4,
   "id": "f836c9e7",
   "metadata": {},
   "outputs": [
    {
     "data": {
      "text/plain": [
       "(5572, 5)"
      ]
     },
     "execution_count": 4,
     "metadata": {},
     "output_type": "execute_result"
    }
   ],
   "source": [
    "data.shape"
   ]
  },
  {
   "cell_type": "markdown",
   "id": "03d39288",
   "metadata": {},
   "source": [
    "## Last columns seem to be unnecessary, check if there are values in there"
   ]
  },
  {
   "cell_type": "code",
   "execution_count": 5,
   "id": "a881bfca",
   "metadata": {},
   "outputs": [
    {
     "data": {
      "text/html": [
       "<div>\n",
       "<style scoped>\n",
       "    .dataframe tbody tr th:only-of-type {\n",
       "        vertical-align: middle;\n",
       "    }\n",
       "\n",
       "    .dataframe tbody tr th {\n",
       "        vertical-align: top;\n",
       "    }\n",
       "\n",
       "    .dataframe thead th {\n",
       "        text-align: right;\n",
       "    }\n",
       "</style>\n",
       "<table border=\"1\" class=\"dataframe\">\n",
       "  <thead>\n",
       "    <tr style=\"text-align: right;\">\n",
       "      <th></th>\n",
       "      <th>v1</th>\n",
       "      <th>v2</th>\n",
       "      <th>Unnamed: 2</th>\n",
       "      <th>Unnamed: 3</th>\n",
       "      <th>Unnamed: 4</th>\n",
       "    </tr>\n",
       "  </thead>\n",
       "  <tbody>\n",
       "    <tr>\n",
       "      <th>Missing Values</th>\n",
       "      <td>0.0</td>\n",
       "      <td>0.0</td>\n",
       "      <td>5522.0</td>\n",
       "      <td>5560.00</td>\n",
       "      <td>5566.00</td>\n",
       "    </tr>\n",
       "    <tr>\n",
       "      <th>Missing Values(%)</th>\n",
       "      <td>0.0</td>\n",
       "      <td>0.0</td>\n",
       "      <td>99.1</td>\n",
       "      <td>99.78</td>\n",
       "      <td>99.89</td>\n",
       "    </tr>\n",
       "  </tbody>\n",
       "</table>\n",
       "</div>"
      ],
      "text/plain": [
       "                    v1   v2  Unnamed: 2  Unnamed: 3  Unnamed: 4\n",
       "Missing Values     0.0  0.0      5522.0     5560.00     5566.00\n",
       "Missing Values(%)  0.0  0.0        99.1       99.78       99.89"
      ]
     },
     "execution_count": 5,
     "metadata": {},
     "output_type": "execute_result"
    }
   ],
   "source": [
    "sum = data.isnull().sum()\n",
    "percentage  = round((sum/data.isnull().count())*100,2)\n",
    "Missing = pd.DataFrame([sum, percentage],\n",
    "                      index=[\"Missing Values\", \"Missing Values(%)\"])\n",
    "Missing"
   ]
  },
  {
   "cell_type": "markdown",
   "id": "159e2ac2",
   "metadata": {},
   "source": [
    "## Report on Missing Values\n",
    "* Cloumn `v1` and `v2` have no missing values while the last three have more than `99%` missing values, therefore it's appropriate to remove them.\n",
    "* Rename columns `v1` and `v2`."
   ]
  },
  {
   "cell_type": "markdown",
   "id": "fc3410c4",
   "metadata": {},
   "source": [
    "### Dropping The last 3 columns"
   ]
  },
  {
   "cell_type": "code",
   "execution_count": 6,
   "id": "a9a25dc6",
   "metadata": {},
   "outputs": [],
   "source": [
    "data.drop([\"Unnamed: 2\", \"Unnamed: 3\", \"Unnamed: 4\"], axis=1, inplace=True)"
   ]
  },
  {
   "cell_type": "code",
   "execution_count": 7,
   "id": "0a8e35e0",
   "metadata": {},
   "outputs": [
    {
     "data": {
      "text/html": [
       "<div>\n",
       "<style scoped>\n",
       "    .dataframe tbody tr th:only-of-type {\n",
       "        vertical-align: middle;\n",
       "    }\n",
       "\n",
       "    .dataframe tbody tr th {\n",
       "        vertical-align: top;\n",
       "    }\n",
       "\n",
       "    .dataframe thead th {\n",
       "        text-align: right;\n",
       "    }\n",
       "</style>\n",
       "<table border=\"1\" class=\"dataframe\">\n",
       "  <thead>\n",
       "    <tr style=\"text-align: right;\">\n",
       "      <th></th>\n",
       "      <th>label</th>\n",
       "      <th>text</th>\n",
       "    </tr>\n",
       "  </thead>\n",
       "  <tbody>\n",
       "    <tr>\n",
       "      <th>0</th>\n",
       "      <td>ham</td>\n",
       "      <td>Go until jurong point, crazy.. Available only ...</td>\n",
       "    </tr>\n",
       "    <tr>\n",
       "      <th>1</th>\n",
       "      <td>ham</td>\n",
       "      <td>Ok lar... Joking wif u oni...</td>\n",
       "    </tr>\n",
       "    <tr>\n",
       "      <th>2</th>\n",
       "      <td>spam</td>\n",
       "      <td>Free entry in 2 a wkly comp to win FA Cup fina...</td>\n",
       "    </tr>\n",
       "    <tr>\n",
       "      <th>3</th>\n",
       "      <td>ham</td>\n",
       "      <td>U dun say so early hor... U c already then say...</td>\n",
       "    </tr>\n",
       "    <tr>\n",
       "      <th>4</th>\n",
       "      <td>ham</td>\n",
       "      <td>Nah I don't think he goes to usf, he lives aro...</td>\n",
       "    </tr>\n",
       "  </tbody>\n",
       "</table>\n",
       "</div>"
      ],
      "text/plain": [
       "  label                                               text\n",
       "0   ham  Go until jurong point, crazy.. Available only ...\n",
       "1   ham                      Ok lar... Joking wif u oni...\n",
       "2  spam  Free entry in 2 a wkly comp to win FA Cup fina...\n",
       "3   ham  U dun say so early hor... U c already then say...\n",
       "4   ham  Nah I don't think he goes to usf, he lives aro..."
      ]
     },
     "execution_count": 7,
     "metadata": {},
     "output_type": "execute_result"
    }
   ],
   "source": [
    "data.columns = [\"label\", \"text\"]\n",
    "data.head()"
   ]
  },
  {
   "cell_type": "markdown",
   "id": "96deb5ac",
   "metadata": {},
   "source": [
    "## Checking Count of labels categories"
   ]
  },
  {
   "cell_type": "code",
   "execution_count": 8,
   "id": "cd9b9a33",
   "metadata": {},
   "outputs": [],
   "source": [
    "colors = [\"#ff9999\", \"#66b3ff\"]"
   ]
  },
  {
   "cell_type": "code",
   "execution_count": 9,
   "id": "d7ae17d1",
   "metadata": {},
   "outputs": [
    {
     "data": {
      "text/plain": [
       "ham     4825\n",
       "spam     747\n",
       "Name: label, dtype: int64"
      ]
     },
     "execution_count": 9,
     "metadata": {},
     "output_type": "execute_result"
    }
   ],
   "source": [
    "data['label'].value_counts()"
   ]
  },
  {
   "cell_type": "code",
   "execution_count": 10,
   "id": "c616983b",
   "metadata": {},
   "outputs": [
    {
     "data": {
      "text/plain": [
       "<AxesSubplot:ylabel='label'>"
      ]
     },
     "execution_count": 10,
     "metadata": {},
     "output_type": "execute_result"
    },
    {
     "data": {
      "image/png": "[encoded data removed]",
      "text/plain": [
       "<Figure size 432x288 with 1 Axes>"
      ]
     },
     "metadata": {},
     "output_type": "display_data"
    }
   ],
   "source": [
    "data['label'].value_counts().plot(kind = \"pie\", colors = colors, explode = (0.1,0), autopct =\"%1.1f%%\")"
   ]
  },
  {
   "cell_type": "markdown",
   "id": "69948930",
   "metadata": {},
   "source": [
    "13.4% of dataset are spam messages, other 86.6% are not\n",
    "\n",
    "Most popular \"ham\" text: 'Sorry, I'll call later', recurse 30 times.\n",
    "Most popular \"spam\" text= 'Please call our customer service representative ...', recurse 4 times"
   ]
  },
  {
   "cell_type": "markdown",
   "id": "a9206dc2",
   "metadata": {},
   "source": [
    "### WordCloud\n",
    "* A wordcloud is a visual representation of a collection of words where the size of each word represents its frequency or importance within the collection.\n",
    "* Word clouds are often used to quickly convey the most common or prominent words in a text or dataset, and they can be useful for analyzing and summarizing large amounts of textual data."
   ]
  },
  {
   "cell_type": "code",
   "execution_count": 11,
   "id": "5bfdc20b",
   "metadata": {},
   "outputs": [],
   "source": [
    "\n",
    "stop_words = set(stopwords.words('english'))\n",
    "spam_text =data.loc[data['label']== 'spam']\n",
    "ham_text = data.loc[data['label'] == 'ham']\n"
   ]
  },
  {
   "cell_type": "code",
   "execution_count": 12,
   "id": "dfc53b83",
   "metadata": {},
   "outputs": [],
   "source": [
    "#counts the number of times a word appears in a text\n",
    "count_ham = Counter(\" \".join(data[data['label']=='ham']['text']).split()).most_common(100)\n",
    "common_Ham = pd.DataFrame.from_dict(count_ham)[0]\n",
    "common_ham = common_Ham.str.cat(sep = ' ')\n",
    "\n",
    "count_spam = Counter(\" \".join(data[data['label'] == 'spam']['text']).split()).most_common(100)\n",
    "common_Spam = pd.DataFrame.from_dict(count_spam)[0]\n",
    "common_spam = common_Spam.str.cat(sep=' ')\n"
   ]
  },
  {
   "cell_type": "code",
   "execution_count": 13,
   "id": "76a8c44a",
   "metadata": {},
   "outputs": [
    {
     "data": {
      "image/png": "[encoded data removed]",
      "text/plain": [
       "<Figure size 720x432 with 1 Axes>"
      ]
     },
     "metadata": {
      "needs_background": "light"
     },
     "output_type": "display_data"
    }
   ],
   "source": [
    "wordcloud_ham = WordCloud(stopwords = stop_words, background_color='white')\n",
    "wordcloud_ham.generate(common_ham)\n",
    "plt.figure(figsize=(10,6))\n",
    "plt.imshow(wordcloud_ham, interpolation='bilinear')\n",
    "plt.title(\"WordCloud showing the Most frequntly used Words in Ham Messages\", fontsize = 16)\n",
    "plt.axis('off')\n",
    "plt.show()"
   ]
  },
  {
   "cell_type": "code",
   "execution_count": 14,
   "id": "4028c065",
   "metadata": {},
   "outputs": [
    {
     "data": {
      "image/png": "[encoded data removed]",
      "text/plain": [
       "<Figure size 720x432 with 1 Axes>"
      ]
     },
     "metadata": {
      "needs_background": "light"
     },
     "output_type": "display_data"
    }
   ],
   "source": [
    "wordcloud_spam = WordCloud(stopwords=stop_words, background_color='white')\n",
    "wordcloud_spam.generate(common_spam)\n",
    "plt.figure(figsize=(10,6))\n",
    "plt.imshow(wordcloud_spam, interpolation='bilinear')\n",
    "plt.title(\"WordCloud showing the Most frequntly used Words in Spam Messages\", fontsize = 16)\n",
    "plt.axis('off')\n",
    "plt.show()"
   ]
  },
  {
   "cell_type": "markdown",
   "id": "2ebdbc3b",
   "metadata": {},
   "source": [
    "## Generating Frequency"
   ]
  },
  {
   "cell_type": "code",
   "execution_count": 15,
   "id": "f52335e8",
   "metadata": {},
   "outputs": [
    {
     "data": {
      "text/html": [
       "<div>\n",
       "<style scoped>\n",
       "    .dataframe tbody tr th:only-of-type {\n",
       "        vertical-align: middle;\n",
       "    }\n",
       "\n",
       "    .dataframe tbody tr th {\n",
       "        vertical-align: top;\n",
       "    }\n",
       "\n",
       "    .dataframe thead tr th {\n",
       "        text-align: left;\n",
       "    }\n",
       "\n",
       "    .dataframe thead tr:last-of-type th {\n",
       "        text-align: right;\n",
       "    }\n",
       "</style>\n",
       "<table border=\"1\" class=\"dataframe\">\n",
       "  <thead>\n",
       "    <tr>\n",
       "      <th></th>\n",
       "      <th colspan=\"4\" halign=\"left\">text</th>\n",
       "    </tr>\n",
       "    <tr>\n",
       "      <th></th>\n",
       "      <th>count</th>\n",
       "      <th>unique</th>\n",
       "      <th>top</th>\n",
       "      <th>freq</th>\n",
       "    </tr>\n",
       "    <tr>\n",
       "      <th>label</th>\n",
       "      <th></th>\n",
       "      <th></th>\n",
       "      <th></th>\n",
       "      <th></th>\n",
       "    </tr>\n",
       "  </thead>\n",
       "  <tbody>\n",
       "    <tr>\n",
       "      <th>ham</th>\n",
       "      <td>4825</td>\n",
       "      <td>4516</td>\n",
       "      <td>Sorry, I'll call later</td>\n",
       "      <td>30</td>\n",
       "    </tr>\n",
       "    <tr>\n",
       "      <th>spam</th>\n",
       "      <td>747</td>\n",
       "      <td>653</td>\n",
       "      <td>Please call our customer service representativ...</td>\n",
       "      <td>4</td>\n",
       "    </tr>\n",
       "  </tbody>\n",
       "</table>\n",
       "</div>"
      ],
      "text/plain": [
       "       text                                                               \n",
       "      count unique                                                top freq\n",
       "label                                                                     \n",
       "ham    4825   4516                             Sorry, I'll call later   30\n",
       "spam    747    653  Please call our customer service representativ...    4"
      ]
     },
     "execution_count": 15,
     "metadata": {},
     "output_type": "execute_result"
    }
   ],
   "source": [
    "data.groupby('label').describe()"
   ]
  },
  {
   "cell_type": "markdown",
   "id": "dea5a17f",
   "metadata": {},
   "source": [
    "* Add variable length\n",
    "* Change spam to dummy -> spam = 1, ham = 0"
   ]
  },
  {
   "cell_type": "markdown",
   "id": "d681bde6",
   "metadata": {},
   "source": [
    "## Generating Length of the text"
   ]
  },
  {
   "cell_type": "code",
   "execution_count": 16,
   "id": "4da9125e",
   "metadata": {},
   "outputs": [
    {
     "data": {
      "text/html": [
       "<div>\n",
       "<style scoped>\n",
       "    .dataframe tbody tr th:only-of-type {\n",
       "        vertical-align: middle;\n",
       "    }\n",
       "\n",
       "    .dataframe tbody tr th {\n",
       "        vertical-align: top;\n",
       "    }\n",
       "\n",
       "    .dataframe thead th {\n",
       "        text-align: right;\n",
       "    }\n",
       "</style>\n",
       "<table border=\"1\" class=\"dataframe\">\n",
       "  <thead>\n",
       "    <tr style=\"text-align: right;\">\n",
       "      <th></th>\n",
       "      <th>label</th>\n",
       "      <th>text</th>\n",
       "      <th>length</th>\n",
       "    </tr>\n",
       "  </thead>\n",
       "  <tbody>\n",
       "    <tr>\n",
       "      <th>0</th>\n",
       "      <td>ham</td>\n",
       "      <td>Go until jurong point, crazy.. Available only ...</td>\n",
       "      <td>111</td>\n",
       "    </tr>\n",
       "    <tr>\n",
       "      <th>1</th>\n",
       "      <td>ham</td>\n",
       "      <td>Ok lar... Joking wif u oni...</td>\n",
       "      <td>29</td>\n",
       "    </tr>\n",
       "    <tr>\n",
       "      <th>2</th>\n",
       "      <td>spam</td>\n",
       "      <td>Free entry in 2 a wkly comp to win FA Cup fina...</td>\n",
       "      <td>155</td>\n",
       "    </tr>\n",
       "    <tr>\n",
       "      <th>3</th>\n",
       "      <td>ham</td>\n",
       "      <td>U dun say so early hor... U c already then say...</td>\n",
       "      <td>49</td>\n",
       "    </tr>\n",
       "    <tr>\n",
       "      <th>4</th>\n",
       "      <td>ham</td>\n",
       "      <td>Nah I don't think he goes to usf, he lives aro...</td>\n",
       "      <td>61</td>\n",
       "    </tr>\n",
       "  </tbody>\n",
       "</table>\n",
       "</div>"
      ],
      "text/plain": [
       "  label                                               text  length\n",
       "0   ham  Go until jurong point, crazy.. Available only ...     111\n",
       "1   ham                      Ok lar... Joking wif u oni...      29\n",
       "2  spam  Free entry in 2 a wkly comp to win FA Cup fina...     155\n",
       "3   ham  U dun say so early hor... U c already then say...      49\n",
       "4   ham  Nah I don't think he goes to usf, he lives aro...      61"
      ]
     },
     "execution_count": 16,
     "metadata": {},
     "output_type": "execute_result"
    }
   ],
   "source": [
    "data['length'] = data['text'].apply(len)\n",
    "data.head()"
   ]
  },
  {
   "cell_type": "markdown",
   "id": "7b407c48",
   "metadata": {},
   "source": [
    "## Creating Dummy variable for the label"
   ]
  },
  {
   "cell_type": "code",
   "execution_count": 17,
   "id": "357eb2b8",
   "metadata": {},
   "outputs": [
    {
     "data": {
      "text/html": [
       "<div>\n",
       "<style scoped>\n",
       "    .dataframe tbody tr th:only-of-type {\n",
       "        vertical-align: middle;\n",
       "    }\n",
       "\n",
       "    .dataframe tbody tr th {\n",
       "        vertical-align: top;\n",
       "    }\n",
       "\n",
       "    .dataframe thead th {\n",
       "        text-align: right;\n",
       "    }\n",
       "</style>\n",
       "<table border=\"1\" class=\"dataframe\">\n",
       "  <thead>\n",
       "    <tr style=\"text-align: right;\">\n",
       "      <th></th>\n",
       "      <th>text</th>\n",
       "      <th>length</th>\n",
       "      <th>Dummy_spam</th>\n",
       "    </tr>\n",
       "  </thead>\n",
       "  <tbody>\n",
       "    <tr>\n",
       "      <th>0</th>\n",
       "      <td>Go until jurong point, crazy.. Available only ...</td>\n",
       "      <td>111</td>\n",
       "      <td>0</td>\n",
       "    </tr>\n",
       "    <tr>\n",
       "      <th>1</th>\n",
       "      <td>Ok lar... Joking wif u oni...</td>\n",
       "      <td>29</td>\n",
       "      <td>0</td>\n",
       "    </tr>\n",
       "    <tr>\n",
       "      <th>2</th>\n",
       "      <td>Free entry in 2 a wkly comp to win FA Cup fina...</td>\n",
       "      <td>155</td>\n",
       "      <td>1</td>\n",
       "    </tr>\n",
       "    <tr>\n",
       "      <th>3</th>\n",
       "      <td>U dun say so early hor... U c already then say...</td>\n",
       "      <td>49</td>\n",
       "      <td>0</td>\n",
       "    </tr>\n",
       "    <tr>\n",
       "      <th>4</th>\n",
       "      <td>Nah I don't think he goes to usf, he lives aro...</td>\n",
       "      <td>61</td>\n",
       "      <td>0</td>\n",
       "    </tr>\n",
       "  </tbody>\n",
       "</table>\n",
       "</div>"
      ],
      "text/plain": [
       "                                                text  length  Dummy_spam\n",
       "0  Go until jurong point, crazy.. Available only ...     111           0\n",
       "1                      Ok lar... Joking wif u oni...      29           0\n",
       "2  Free entry in 2 a wkly comp to win FA Cup fina...     155           1\n",
       "3  U dun say so early hor... U c already then say...      49           0\n",
       "4  Nah I don't think he goes to usf, he lives aro...      61           0"
      ]
     },
     "execution_count": 17,
     "metadata": {},
     "output_type": "execute_result"
    }
   ],
   "source": [
    "data = pd.get_dummies(data, columns = ['label'], prefix = \"Dummy\", drop_first=True)\n",
    "data.head()"
   ]
  },
  {
   "cell_type": "markdown",
   "id": "551eff1e",
   "metadata": {},
   "source": [
    "## Remove Stopwords"
   ]
  },
  {
   "cell_type": "code",
   "execution_count": 18,
   "id": "dedd2e57",
   "metadata": {},
   "outputs": [
    {
     "data": {
      "text/html": [
       "<div>\n",
       "<style scoped>\n",
       "    .dataframe tbody tr th:only-of-type {\n",
       "        vertical-align: middle;\n",
       "    }\n",
       "\n",
       "    .dataframe tbody tr th {\n",
       "        vertical-align: top;\n",
       "    }\n",
       "\n",
       "    .dataframe thead th {\n",
       "        text-align: right;\n",
       "    }\n",
       "</style>\n",
       "<table border=\"1\" class=\"dataframe\">\n",
       "  <thead>\n",
       "    <tr style=\"text-align: right;\">\n",
       "      <th></th>\n",
       "      <th>text</th>\n",
       "      <th>length</th>\n",
       "      <th>Dummy_spam</th>\n",
       "    </tr>\n",
       "  </thead>\n",
       "  <tbody>\n",
       "    <tr>\n",
       "      <th>0</th>\n",
       "      <td>Go until jurong point, crazy.. Available only ...</td>\n",
       "      <td>111</td>\n",
       "      <td>0</td>\n",
       "    </tr>\n",
       "    <tr>\n",
       "      <th>1</th>\n",
       "      <td>Ok lar... Joking wif u oni...</td>\n",
       "      <td>29</td>\n",
       "      <td>0</td>\n",
       "    </tr>\n",
       "    <tr>\n",
       "      <th>2</th>\n",
       "      <td>Free entry in 2 a wkly comp to win FA Cup fina...</td>\n",
       "      <td>155</td>\n",
       "      <td>1</td>\n",
       "    </tr>\n",
       "    <tr>\n",
       "      <th>3</th>\n",
       "      <td>U dun say so early hor... U c already then say...</td>\n",
       "      <td>49</td>\n",
       "      <td>0</td>\n",
       "    </tr>\n",
       "    <tr>\n",
       "      <th>4</th>\n",
       "      <td>Nah I don't think he goes to usf, he lives aro...</td>\n",
       "      <td>61</td>\n",
       "      <td>0</td>\n",
       "    </tr>\n",
       "  </tbody>\n",
       "</table>\n",
       "</div>"
      ],
      "text/plain": [
       "                                                text  length  Dummy_spam\n",
       "0  Go until jurong point, crazy.. Available only ...     111           0\n",
       "1                      Ok lar... Joking wif u oni...      29           0\n",
       "2  Free entry in 2 a wkly comp to win FA Cup fina...     155           1\n",
       "3  U dun say so early hor... U c already then say...      49           0\n",
       "4  Nah I don't think he goes to usf, he lives aro...      61           0"
      ]
     },
     "execution_count": 18,
     "metadata": {},
     "output_type": "execute_result"
    }
   ],
   "source": [
    "stop = stopwords.words('english')\n",
    "data['text'].apply(lambda x: [item for item in x if item not in stop])\n",
    "data.head()"
   ]
  },
  {
   "cell_type": "code",
   "execution_count": 19,
   "id": "3ae7b5c1",
   "metadata": {},
   "outputs": [
    {
     "data": {
      "text/plain": [
       "[(\"sorry, i'll call later\", 30),\n",
       " ('i cant pick the phone right now. pls send a message', 12),\n",
       " ('ok...', 10),\n",
       " ('please call our customer service representative on freephone 0808 145 4742 between 9am-11pm as you have won a guaranteed å£1000 cash or å£5000 prize!',\n",
       "  4),\n",
       " ('wen ur lovable bcums angry wid u, dnt take it seriously.. coz being angry is d most childish n true way of showing deep affection, care n luv!.. kettoda manda... have nice day da.',\n",
       "  4),\n",
       " ('your opinion about me? 1. over 2. jada 3. kusruthi 4. lovable 5. silent 6. spl character 7. not matured 8. stylish 9. simple pls reply..',\n",
       "  4),\n",
       " ('7 wonders in my world 7th you 6th ur style 5th ur smile 4th ur personality 3rd ur nature 2nd ur sms and 1st \\\\ur lovely friendship\\\\\"... good morning dear\"',\n",
       "  4),\n",
       " ('say this slowly.? god,i love you &amp; i need you,clean my heart with your blood.send this to ten special people &amp; u c miracle tomorrow, do it,pls,pls do it...',\n",
       "  4),\n",
       " ('ok', 4),\n",
       " ('ok.', 4)]"
      ]
     },
     "metadata": {},
     "output_type": "display_data"
    }
   ],
   "source": [
    "all_sent = []\n",
    "for text in data.text:\n",
    "    all_sent.append(text.lower())\n",
    "    \n",
    "common_sent = nltk.FreqDist(all_sent).most_common(10)\n",
    "display(common_sent)"
   ]
  },
  {
   "cell_type": "markdown",
   "id": "041e07b0",
   "metadata": {},
   "source": [
    "## Creating Feature"
   ]
  },
  {
   "cell_type": "code",
   "execution_count": 20,
   "id": "48071f96",
   "metadata": {},
   "outputs": [
    {
     "data": {
      "text/plain": [
       "array([[111],\n",
       "       [ 29],\n",
       "       [155],\n",
       "       ...,\n",
       "       [ 57],\n",
       "       [125],\n",
       "       [ 26]], dtype=int64)"
      ]
     },
     "execution_count": 20,
     "metadata": {},
     "output_type": "execute_result"
    }
   ],
   "source": [
    "X = data['length'].values[:, None]\n",
    "X"
   ]
  },
  {
   "cell_type": "markdown",
   "id": "c88a8082",
   "metadata": {},
   "source": [
    "## Creating target"
   ]
  },
  {
   "cell_type": "code",
   "execution_count": 21,
   "id": "7c850aa5",
   "metadata": {},
   "outputs": [
    {
     "data": {
      "text/plain": [
       "array([0, 0, 1, ..., 0, 0, 0], dtype=uint8)"
      ]
     },
     "execution_count": 21,
     "metadata": {},
     "output_type": "execute_result"
    }
   ],
   "source": [
    "y = data['Dummy_spam'].values\n",
    "y"
   ]
  },
  {
   "cell_type": "markdown",
   "id": "686c2ab4",
   "metadata": {},
   "source": [
    "## Splitting data into train and test set"
   ]
  },
  {
   "cell_type": "code",
   "execution_count": 22,
   "id": "5bff43be",
   "metadata": {},
   "outputs": [],
   "source": [
    "X_train, X_test, y_train, y_test = train_test_split(X, y, test_size=0.2,random_state=123 ,stratify=y)"
   ]
  },
  {
   "cell_type": "markdown",
   "id": "0ead4dd7",
   "metadata": {},
   "source": [
    "## Checking Distribution of labels"
   ]
  },
  {
   "cell_type": "code",
   "execution_count": 23,
   "id": "0279491c",
   "metadata": {},
   "outputs": [
    {
     "data": {
      "image/png": "[encoded data removed]",
      "text/plain": [
       "<Figure size 1080x432 with 2 Axes>"
      ]
     },
     "metadata": {
      "needs_background": "light"
     },
     "output_type": "display_data"
    }
   ],
   "source": [
    "plt.style.use('seaborn-pastel')\n",
    "data.hist(column='length', by = 'Dummy_spam', figsize=(15,6), bins=100, label = ('Ham', 'Spam'))\n",
    "plt.title('Distributions of labels', fontsize = 20, color = 'black')\n",
    "plt.ylabel('Count',color=\"black\", fontsize = 15)\n",
    "plt.xticks(color= \"black\", fontsize = 15)\n",
    "plt.yticks(color= \"black\", fontsize = 15)\n",
    "plt.xlabel(\"Labels\", color=\"black\", fontsize = 15)\n",
    "plt.xlim(-40,400)\n",
    "plt.ioff()\n",
    "plt.show()"
   ]
  },
  {
   "cell_type": "markdown",
   "id": "0bbf70e9",
   "metadata": {},
   "source": [
    "## List of Machine Learning Models\n",
    "Below is a brief description of each model:\n",
    "\n",
    "* Logistic Regression (LR): A linear model used for binary classification problems.\n",
    "* Support Vector Machine (SVM): A model that tries to find a hyperplane that separates different classes.\n",
    "* Random Forest (RF): An ensemble learning method that creates multiple decision trees and combines their outputs to make a final prediction.\n",
    "* Multi-Layer Perceptron (NN): A neural network with multiple hidden layers that can learn complex non-linear relationships in data.\n",
    "* K-Nearest Neighbors (KNN): A simple and effective classification algorithm that assigns the class of the majority of its k-nearest neighbors in the feature space.\n",
    "* Decision Tree Classifier (DTC): A model that splits the data into smaller subsets based on the most important features at each node and then assigns the class label based on the majority class of the data points within each subset.\n",
    "* Multinomial Naive Bayes (MNB): A probabilistic model that uses Bayes theorem to predict the class of a given input.\n",
    "* AdaBoost Classifier (ABC): An ensemble learning method that creates a set of weak classifiers and combines them to form a stronger classifier by weighting the instances that were misclassified by the previous classifiers.\n",
    "\n",
    "This list of models is used to train and compare the performance of different classifiers in this project."
   ]
  },
  {
   "cell_type": "code",
   "execution_count": null,
   "id": "ee5a3fb6",
   "metadata": {},
   "outputs": [],
   "source": []
  },
  {
   "cell_type": "code",
   "execution_count": 24,
   "id": "50c9492f",
   "metadata": {},
   "outputs": [],
   "source": [
    "models = []\n",
    "models.append(['LR', LogisticRegression(solver=\"lbfgs\")])\n",
    "models.append(['SVM', svm.SVC(gamma='auto')])\n",
    "models.append(['RF', RandomForestClassifier(n_estimators=1000, max_depth=10)])\n",
    "models.append(['NN', MLPClassifier(solver='lbfgs', alpha=1e-15, hidden_layer_sizes= (150,10))])\n",
    "models.append(['KNN', KNeighborsClassifier()])\n",
    "models.append(['DTC', DecisionTreeClassifier()])\n",
    "models.append(['MNB', MultinomialNB(alpha=0.2)])\n",
    "models.append(['ABC', AdaBoostClassifier(n_estimators=100)])\n"
   ]
  },
  {
   "cell_type": "code",
   "execution_count": 25,
   "id": "cf0eb6cb",
   "metadata": {},
   "outputs": [
    {
     "name": "stdout",
     "output_type": "stream",
     "text": [
      "Model tested: LR\n",
      "Confusion Matrix\n",
      "      ham  spam\n",
      "ham   938    28\n",
      "spam  149     0\n",
      "Accuracy = 84.13%\n",
      "Error rate = 15.87%\n",
      "Recall rate = [97.10144928  0.        ]%\n",
      "Precision rate = [86.2925483  0.       ]%\n",
      "              precision    recall  f1-score   support\n",
      "\n",
      "           0       0.86      0.97      0.91       966\n",
      "           1       0.00      0.00      0.00       149\n",
      "\n",
      "    accuracy                           0.84      1115\n",
      "   macro avg       0.43      0.49      0.46      1115\n",
      "weighted avg       0.75      0.84      0.79      1115\n",
      "\n",
      "\n",
      "Model tested: SVM\n",
      "Confusion Matrix\n",
      "      ham  spam\n",
      "ham   909    57\n",
      "spam   72    77\n",
      "Accuracy = 88.43%\n",
      "Error rate = 11.57%\n",
      "Recall rate = [94.09937888 51.67785235]%\n",
      "Precision rate = [92.66055046 57.46268657]%\n",
      "              precision    recall  f1-score   support\n",
      "\n",
      "           0       0.93      0.94      0.93       966\n",
      "           1       0.57      0.52      0.54       149\n",
      "\n",
      "    accuracy                           0.88      1115\n",
      "   macro avg       0.75      0.73      0.74      1115\n",
      "weighted avg       0.88      0.88      0.88      1115\n",
      "\n",
      "\n",
      "Model tested: RF\n",
      "Confusion Matrix\n",
      "      ham  spam\n",
      "ham   906    60\n",
      "spam   71    78\n",
      "Accuracy = 88.25%\n",
      "Error rate = 11.75%\n",
      "Recall rate = [93.78881988 52.34899329]%\n",
      "Precision rate = [92.73285568 56.52173913]%\n",
      "              precision    recall  f1-score   support\n",
      "\n",
      "           0       0.93      0.94      0.93       966\n",
      "           1       0.57      0.52      0.54       149\n",
      "\n",
      "    accuracy                           0.88      1115\n",
      "   macro avg       0.75      0.73      0.74      1115\n",
      "weighted avg       0.88      0.88      0.88      1115\n",
      "\n",
      "\n",
      "Model tested: NN\n",
      "Confusion Matrix\n",
      "      ham  spam\n",
      "ham   940    26\n",
      "spam  149     0\n",
      "Accuracy = 84.3%\n",
      "Error rate = 15.7%\n",
      "Recall rate = [97.30848861  0.        ]%\n",
      "Precision rate = [86.31772268  0.        ]%\n",
      "              precision    recall  f1-score   support\n",
      "\n",
      "           0       0.86      0.97      0.91       966\n",
      "           1       0.00      0.00      0.00       149\n",
      "\n",
      "    accuracy                           0.84      1115\n",
      "   macro avg       0.43      0.49      0.46      1115\n",
      "weighted avg       0.75      0.84      0.79      1115\n",
      "\n",
      "\n",
      "Model tested: KNN\n",
      "Confusion Matrix\n",
      "      ham  spam\n",
      "ham   924    42\n",
      "spam  100    49\n",
      "Accuracy = 87.26%\n",
      "Error rate = 12.74%\n",
      "Recall rate = [95.65217391 32.88590604]%\n",
      "Precision rate = [90.234375   53.84615385]%\n",
      "              precision    recall  f1-score   support\n",
      "\n",
      "           0       0.90      0.96      0.93       966\n",
      "           1       0.54      0.33      0.41       149\n",
      "\n",
      "    accuracy                           0.87      1115\n",
      "   macro avg       0.72      0.64      0.67      1115\n",
      "weighted avg       0.85      0.87      0.86      1115\n",
      "\n",
      "\n",
      "Model tested: DTC\n",
      "Confusion Matrix\n",
      "      ham  spam\n",
      "ham   915    51\n",
      "spam   74    75\n",
      "Accuracy = 88.79%\n",
      "Error rate = 11.21%\n",
      "Recall rate = [94.72049689 50.33557047]%\n",
      "Precision rate = [92.51769464 59.52380952]%\n",
      "              precision    recall  f1-score   support\n",
      "\n",
      "           0       0.93      0.95      0.94       966\n",
      "           1       0.60      0.50      0.55       149\n",
      "\n",
      "    accuracy                           0.89      1115\n",
      "   macro avg       0.76      0.73      0.74      1115\n",
      "weighted avg       0.88      0.89      0.88      1115\n",
      "\n",
      "\n",
      "Model tested: MNB\n",
      "Confusion Matrix\n",
      "      ham  spam\n",
      "ham   966     0\n",
      "spam  149     0\n",
      "Accuracy = 86.64%\n",
      "Error rate = 13.36%\n",
      "Recall rate = [100.   0.]%\n",
      "Precision rate = [86.6367713  0.       ]%\n",
      "              precision    recall  f1-score   support\n",
      "\n",
      "           0       0.87      1.00      0.93       966\n",
      "           1       0.00      0.00      0.00       149\n",
      "\n",
      "    accuracy                           0.87      1115\n",
      "   macro avg       0.43      0.50      0.46      1115\n",
      "weighted avg       0.75      0.87      0.80      1115\n",
      "\n",
      "\n",
      "Model tested: ABC\n",
      "Confusion Matrix\n",
      "      ham  spam\n",
      "ham   903    63\n",
      "spam   60    89\n",
      "Accuracy = 88.97%\n",
      "Error rate = 11.03%\n",
      "Recall rate = [93.47826087 59.73154362]%\n",
      "Precision rate = [93.7694704  58.55263158]%\n",
      "              precision    recall  f1-score   support\n",
      "\n",
      "           0       0.94      0.93      0.94       966\n",
      "           1       0.59      0.60      0.59       149\n",
      "\n",
      "    accuracy                           0.89      1115\n",
      "   macro avg       0.76      0.77      0.76      1115\n",
      "weighted avg       0.89      0.89      0.89      1115\n",
      "\n",
      "\n"
     ]
    }
   ],
   "source": [
    "results = []\n",
    "for name, model in models:\n",
    "    evalution_model = model\n",
    "    evalution_model.fit(X_train, y_train)\n",
    "    pred = evalution_model.predict(X_test)\n",
    "    acc = round(accuracy_score(y_test, pred)*100,2)\n",
    "    precision = precision_score(y_test, pred, average=None)*100\n",
    "    recall = recall_score(y_test, pred, average=None)*100\n",
    "    error_rate = round((100 - acc),2)\n",
    "    cm = pd.DataFrame(metrics.confusion_matrix(y_test, pred), index=['ham', 'spam'], columns=['ham', 'spam'])\n",
    "    print('Model tested: {}'.format(name))\n",
    "    print('Confusion Matrix')\n",
    "    print(cm)\n",
    "    print('Accuracy = {}%'.format(acc))\n",
    "    print('Error rate = {}%'.format(error_rate))\n",
    "    print('Recall rate = {}%'.format(recall))\n",
    "    print('Precision rate = {}%'.format(precision))\n",
    "    print(metrics.classification_report(y_test, pred))\n",
    "    print()\n",
    "    results.append([name, precision])\n",
    "    \n",
    "    \n",
    "    "
   ]
  },
  {
   "cell_type": "code",
   "execution_count": 26,
   "id": "c20564d4",
   "metadata": {},
   "outputs": [],
   "source": [
    "spam_text = data.loc[data['Dummy_spam'] == 1]['text']\n",
    "ham_text = data.loc[data['Dummy_spam'] == 0]['text']"
   ]
  },
  {
   "cell_type": "markdown",
   "id": "7012605d",
   "metadata": {},
   "source": [
    "Countvectorizer:\n",
    "* TF-IDF Vectorizer:\n",
    "* stopwords get removed\n",
    "* Words NOT Stemmed"
   ]
  },
  {
   "cell_type": "code",
   "execution_count": 27,
   "id": "4d608133",
   "metadata": {},
   "outputs": [],
   "source": [
    "X = data['text']\n",
    "y = data['Dummy_spam']"
   ]
  },
  {
   "cell_type": "code",
   "execution_count": 28,
   "id": "58dd1b3e",
   "metadata": {},
   "outputs": [],
   "source": [
    "X_train, X_test, y_train, y_test = train_test_split(X, y, test_size=0.2, random_state=123, stratify=y)"
   ]
  },
  {
   "cell_type": "code",
   "execution_count": 29,
   "id": "2efeb0f4",
   "metadata": {},
   "outputs": [
    {
     "name": "stdout",
     "output_type": "stream",
     "text": [
      "Model tested: LR\n",
      "Confusion Matrix\n",
      "      ham  spam\n",
      "ham   965     1\n",
      "spam   37   112\n",
      "Accuracy = 96.59%\n",
      "Error rate = 3.41%\n",
      "Recall rate = [99.89648033 75.16778523]%\n",
      "Precision rate = [96.30738523 99.11504425]%\n",
      "              precision    recall  f1-score   support\n",
      "\n",
      "           0       0.96      1.00      0.98       966\n",
      "           1       0.99      0.75      0.85       149\n",
      "\n",
      "    accuracy                           0.97      1115\n",
      "   macro avg       0.98      0.88      0.92      1115\n",
      "weighted avg       0.97      0.97      0.96      1115\n",
      "\n",
      "\n",
      "Model tested: SVM\n",
      "Confusion Matrix\n",
      "      ham  spam\n",
      "ham   966     0\n",
      "spam  149     0\n",
      "Accuracy = 86.64%\n",
      "Error rate = 13.36%\n",
      "Recall rate = [100.   0.]%\n",
      "Precision rate = [86.6367713  0.       ]%\n",
      "              precision    recall  f1-score   support\n",
      "\n",
      "           0       0.87      1.00      0.93       966\n",
      "           1       0.00      0.00      0.00       149\n",
      "\n",
      "    accuracy                           0.87      1115\n",
      "   macro avg       0.43      0.50      0.46      1115\n",
      "weighted avg       0.75      0.87      0.80      1115\n",
      "\n",
      "\n",
      "Model tested: RF\n",
      "Confusion Matrix\n",
      "      ham  spam\n",
      "ham   966     0\n",
      "spam  111    38\n",
      "Accuracy = 90.04%\n",
      "Error rate = 9.96%\n",
      "Recall rate = [100.         25.5033557]%\n",
      "Precision rate = [ 89.69359331 100.        ]%\n",
      "              precision    recall  f1-score   support\n",
      "\n",
      "           0       0.90      1.00      0.95       966\n",
      "           1       1.00      0.26      0.41       149\n",
      "\n",
      "    accuracy                           0.90      1115\n",
      "   macro avg       0.95      0.63      0.68      1115\n",
      "weighted avg       0.91      0.90      0.87      1115\n",
      "\n",
      "\n",
      "Model tested: NN\n",
      "Confusion Matrix\n",
      "      ham  spam\n",
      "ham   956    10\n",
      "spam    6   143\n",
      "Accuracy = 98.57%\n",
      "Error rate = 1.43%\n",
      "Recall rate = [98.96480331 95.97315436]%\n",
      "Precision rate = [99.37629938 93.46405229]%\n",
      "              precision    recall  f1-score   support\n",
      "\n",
      "           0       0.99      0.99      0.99       966\n",
      "           1       0.93      0.96      0.95       149\n",
      "\n",
      "    accuracy                           0.99      1115\n",
      "   macro avg       0.96      0.97      0.97      1115\n",
      "weighted avg       0.99      0.99      0.99      1115\n",
      "\n",
      "\n",
      "Model tested: KNN\n",
      "Confusion Matrix\n",
      "      ham  spam\n",
      "ham   966     0\n",
      "spam  103    46\n",
      "Accuracy = 90.76%\n",
      "Error rate = 9.24%\n",
      "Recall rate = [100.          30.87248322]%\n",
      "Precision rate = [ 90.36482694 100.        ]%\n",
      "              precision    recall  f1-score   support\n",
      "\n",
      "           0       0.90      1.00      0.95       966\n",
      "           1       1.00      0.31      0.47       149\n",
      "\n",
      "    accuracy                           0.91      1115\n",
      "   macro avg       0.95      0.65      0.71      1115\n",
      "weighted avg       0.92      0.91      0.89      1115\n",
      "\n",
      "\n",
      "Model tested: DTC\n",
      "Confusion Matrix\n",
      "      ham  spam\n",
      "ham   949    17\n",
      "spam   17   132\n",
      "Accuracy = 96.95%\n",
      "Error rate = 3.05%\n",
      "Recall rate = [98.24016563 88.59060403]%\n",
      "Precision rate = [98.24016563 88.59060403]%\n",
      "              precision    recall  f1-score   support\n",
      "\n",
      "           0       0.98      0.98      0.98       966\n",
      "           1       0.89      0.89      0.89       149\n",
      "\n",
      "    accuracy                           0.97      1115\n",
      "   macro avg       0.93      0.93      0.93      1115\n",
      "weighted avg       0.97      0.97      0.97      1115\n",
      "\n",
      "\n",
      "Model tested: MNB\n",
      "Confusion Matrix\n",
      "      ham  spam\n",
      "ham   966     0\n",
      "spam   10   139\n",
      "Accuracy = 99.1%\n",
      "Error rate = 0.9%\n",
      "Recall rate = [100.         93.2885906]%\n",
      "Precision rate = [ 98.97540984 100.        ]%\n",
      "              precision    recall  f1-score   support\n",
      "\n",
      "           0       0.99      1.00      0.99       966\n",
      "           1       1.00      0.93      0.97       149\n",
      "\n",
      "    accuracy                           0.99      1115\n",
      "   macro avg       0.99      0.97      0.98      1115\n",
      "weighted avg       0.99      0.99      0.99      1115\n",
      "\n",
      "\n",
      "Model tested: ABC\n",
      "Confusion Matrix\n",
      "      ham  spam\n",
      "ham   961     5\n",
      "spam   21   128\n",
      "Accuracy = 97.67%\n",
      "Error rate = 2.33%\n",
      "Recall rate = [99.48240166 85.90604027]%\n",
      "Precision rate = [97.86150713 96.2406015 ]%\n",
      "              precision    recall  f1-score   support\n",
      "\n",
      "           0       0.98      0.99      0.99       966\n",
      "           1       0.96      0.86      0.91       149\n",
      "\n",
      "    accuracy                           0.98      1115\n",
      "   macro avg       0.97      0.93      0.95      1115\n",
      "weighted avg       0.98      0.98      0.98      1115\n",
      "\n",
      "\n"
     ]
    }
   ],
   "source": [
    "results2 = []\n",
    "for name, model in models:\n",
    "    text_clf = Pipeline([('tfidf', TfidfVectorizer(stop_words='english')), (name, model)])\n",
    "    text_clf.fit(X_train, y_train)\n",
    "    pred = text_clf.predict(X_test)\n",
    "    acc = round(accuracy_score(y_test, pred)*100, 2)\n",
    "    precision = precision_score(y_test, pred, average=None)*100\n",
    "    recall = recall_score(y_test, pred, average=None)*100\n",
    "    error_rate = round(100- acc, 2)\n",
    "    cm = pd.DataFrame(metrics.confusion_matrix(y_test, pred), index = ['ham', 'spam'], columns = ['ham', 'spam'])\n",
    "    print('Model tested: {}'.format(name))\n",
    "    print('Confusion Matrix')\n",
    "    print(cm)\n",
    "    print('Accuracy = {}%'.format(acc))\n",
    "    print('Error rate = {}%'.format(error_rate))\n",
    "    print('Recall rate = {}%'.format(recall))\n",
    "    print('Precision rate = {}%'.format(precision))\n",
    "    print(metrics.classification_report(y_test, pred))\n",
    "    print()\n",
    "    results2.append([name, precision])\n",
    "    "
   ]
  },
  {
   "cell_type": "code",
   "execution_count": 30,
   "id": "a255bd49",
   "metadata": {},
   "outputs": [
    {
     "data": {
      "text/plain": [
       "[['LR', array([86.2925483,  0.       ])],\n",
       " ['SVM', array([92.66055046, 57.46268657])],\n",
       " ['RF', array([92.73285568, 56.52173913])],\n",
       " ['NN', array([86.31772268,  0.        ])],\n",
       " ['KNN', array([90.234375  , 53.84615385])],\n",
       " ['DTC', array([92.51769464, 59.52380952])],\n",
       " ['MNB', array([86.6367713,  0.       ])],\n",
       " ['ABC', array([93.7694704 , 58.55263158])]]"
      ]
     },
     "execution_count": 30,
     "metadata": {},
     "output_type": "execute_result"
    }
   ],
   "source": [
    "results"
   ]
  },
  {
   "cell_type": "markdown",
   "id": "7e82e2a2",
   "metadata": {},
   "source": [
    "## Creating DataFrame for results1"
   ]
  },
  {
   "cell_type": "code",
   "execution_count": 31,
   "id": "7ef752d1",
   "metadata": {
    "scrolled": true
   },
   "outputs": [
    {
     "data": {
      "text/html": [
       "<div>\n",
       "<style scoped>\n",
       "    .dataframe tbody tr th:only-of-type {\n",
       "        vertical-align: middle;\n",
       "    }\n",
       "\n",
       "    .dataframe tbody tr th {\n",
       "        vertical-align: top;\n",
       "    }\n",
       "\n",
       "    .dataframe thead th {\n",
       "        text-align: right;\n",
       "    }\n",
       "</style>\n",
       "<table border=\"1\" class=\"dataframe\">\n",
       "  <thead>\n",
       "    <tr style=\"text-align: right;\">\n",
       "      <th></th>\n",
       "      <th>Model</th>\n",
       "      <th>Accuracy Length</th>\n",
       "    </tr>\n",
       "  </thead>\n",
       "  <tbody>\n",
       "    <tr>\n",
       "      <th>0</th>\n",
       "      <td>LR</td>\n",
       "      <td>86.292548</td>\n",
       "    </tr>\n",
       "    <tr>\n",
       "      <th>1</th>\n",
       "      <td>SVM</td>\n",
       "      <td>92.660550</td>\n",
       "    </tr>\n",
       "    <tr>\n",
       "      <th>2</th>\n",
       "      <td>RF</td>\n",
       "      <td>92.732856</td>\n",
       "    </tr>\n",
       "    <tr>\n",
       "      <th>3</th>\n",
       "      <td>NN</td>\n",
       "      <td>86.317723</td>\n",
       "    </tr>\n",
       "    <tr>\n",
       "      <th>4</th>\n",
       "      <td>KNN</td>\n",
       "      <td>90.234375</td>\n",
       "    </tr>\n",
       "    <tr>\n",
       "      <th>5</th>\n",
       "      <td>DTC</td>\n",
       "      <td>92.517695</td>\n",
       "    </tr>\n",
       "    <tr>\n",
       "      <th>6</th>\n",
       "      <td>MNB</td>\n",
       "      <td>86.636771</td>\n",
       "    </tr>\n",
       "    <tr>\n",
       "      <th>7</th>\n",
       "      <td>ABC</td>\n",
       "      <td>93.769470</td>\n",
       "    </tr>\n",
       "  </tbody>\n",
       "</table>\n",
       "</div>"
      ],
      "text/plain": [
       "  Model  Accuracy Length\n",
       "0    LR        86.292548\n",
       "1   SVM        92.660550\n",
       "2    RF        92.732856\n",
       "3    NN        86.317723\n",
       "4   KNN        90.234375\n",
       "5   DTC        92.517695\n",
       "6   MNB        86.636771\n",
       "7   ABC        93.769470"
      ]
     },
     "execution_count": 31,
     "metadata": {},
     "output_type": "execute_result"
    }
   ],
   "source": [
    "df1 = pd.DataFrame(results, columns= ['Model', \"Accuracy Length\"])\n",
    "# df1[['Accuracy1', 'Accuracy2']] = df1['Accuracy Length'].apply(pd.Series)\n",
    "df1['Accuracy Length'] = df1['Accuracy Length'].apply(lambda x: x[0])\n",
    "df1"
   ]
  },
  {
   "cell_type": "markdown",
   "id": "3362e3ce",
   "metadata": {},
   "source": [
    "## Creating DataFrame for results2"
   ]
  },
  {
   "cell_type": "code",
   "execution_count": 32,
   "id": "83ad5371",
   "metadata": {},
   "outputs": [
    {
     "data": {
      "text/html": [
       "<div>\n",
       "<style scoped>\n",
       "    .dataframe tbody tr th:only-of-type {\n",
       "        vertical-align: middle;\n",
       "    }\n",
       "\n",
       "    .dataframe tbody tr th {\n",
       "        vertical-align: top;\n",
       "    }\n",
       "\n",
       "    .dataframe thead th {\n",
       "        text-align: right;\n",
       "    }\n",
       "</style>\n",
       "<table border=\"1\" class=\"dataframe\">\n",
       "  <thead>\n",
       "    <tr style=\"text-align: right;\">\n",
       "      <th></th>\n",
       "      <th>Model</th>\n",
       "      <th>Accuracy Words of bags</th>\n",
       "    </tr>\n",
       "  </thead>\n",
       "  <tbody>\n",
       "    <tr>\n",
       "      <th>0</th>\n",
       "      <td>LR</td>\n",
       "      <td>96.307385</td>\n",
       "    </tr>\n",
       "    <tr>\n",
       "      <th>1</th>\n",
       "      <td>SVM</td>\n",
       "      <td>86.636771</td>\n",
       "    </tr>\n",
       "    <tr>\n",
       "      <th>2</th>\n",
       "      <td>RF</td>\n",
       "      <td>89.693593</td>\n",
       "    </tr>\n",
       "    <tr>\n",
       "      <th>3</th>\n",
       "      <td>NN</td>\n",
       "      <td>99.376299</td>\n",
       "    </tr>\n",
       "    <tr>\n",
       "      <th>4</th>\n",
       "      <td>KNN</td>\n",
       "      <td>90.364827</td>\n",
       "    </tr>\n",
       "    <tr>\n",
       "      <th>5</th>\n",
       "      <td>DTC</td>\n",
       "      <td>98.240166</td>\n",
       "    </tr>\n",
       "    <tr>\n",
       "      <th>6</th>\n",
       "      <td>MNB</td>\n",
       "      <td>98.975410</td>\n",
       "    </tr>\n",
       "    <tr>\n",
       "      <th>7</th>\n",
       "      <td>ABC</td>\n",
       "      <td>97.861507</td>\n",
       "    </tr>\n",
       "  </tbody>\n",
       "</table>\n",
       "</div>"
      ],
      "text/plain": [
       "  Model  Accuracy Words of bags\n",
       "0    LR               96.307385\n",
       "1   SVM               86.636771\n",
       "2    RF               89.693593\n",
       "3    NN               99.376299\n",
       "4   KNN               90.364827\n",
       "5   DTC               98.240166\n",
       "6   MNB               98.975410\n",
       "7   ABC               97.861507"
      ]
     },
     "execution_count": 32,
     "metadata": {},
     "output_type": "execute_result"
    }
   ],
   "source": [
    "df2 = pd.DataFrame(results2, columns=['Model', 'Accuracy Words of bags'])\n",
    "df2['Accuracy Words of bags'] = df2['Accuracy Words of bags'].apply(lambda x: x[0])\n",
    "df2"
   ]
  },
  {
   "cell_type": "markdown",
   "id": "2a909ce6",
   "metadata": {},
   "source": [
    "## Merging two DataFrames for the two results"
   ]
  },
  {
   "cell_type": "code",
   "execution_count": 33,
   "id": "f3883911",
   "metadata": {},
   "outputs": [
    {
     "data": {
      "text/html": [
       "<div>\n",
       "<style scoped>\n",
       "    .dataframe tbody tr th:only-of-type {\n",
       "        vertical-align: middle;\n",
       "    }\n",
       "\n",
       "    .dataframe tbody tr th {\n",
       "        vertical-align: top;\n",
       "    }\n",
       "\n",
       "    .dataframe thead th {\n",
       "        text-align: right;\n",
       "    }\n",
       "</style>\n",
       "<table border=\"1\" class=\"dataframe\">\n",
       "  <thead>\n",
       "    <tr style=\"text-align: right;\">\n",
       "      <th></th>\n",
       "      <th>Model</th>\n",
       "      <th>Accuracy Length</th>\n",
       "      <th>Accuracy Words of bags</th>\n",
       "    </tr>\n",
       "  </thead>\n",
       "  <tbody>\n",
       "    <tr>\n",
       "      <th>0</th>\n",
       "      <td>LR</td>\n",
       "      <td>86.292548</td>\n",
       "      <td>96.307385</td>\n",
       "    </tr>\n",
       "    <tr>\n",
       "      <th>1</th>\n",
       "      <td>SVM</td>\n",
       "      <td>92.660550</td>\n",
       "      <td>86.636771</td>\n",
       "    </tr>\n",
       "    <tr>\n",
       "      <th>2</th>\n",
       "      <td>RF</td>\n",
       "      <td>92.732856</td>\n",
       "      <td>89.693593</td>\n",
       "    </tr>\n",
       "    <tr>\n",
       "      <th>3</th>\n",
       "      <td>NN</td>\n",
       "      <td>86.317723</td>\n",
       "      <td>99.376299</td>\n",
       "    </tr>\n",
       "    <tr>\n",
       "      <th>4</th>\n",
       "      <td>KNN</td>\n",
       "      <td>90.234375</td>\n",
       "      <td>90.364827</td>\n",
       "    </tr>\n",
       "    <tr>\n",
       "      <th>5</th>\n",
       "      <td>DTC</td>\n",
       "      <td>92.517695</td>\n",
       "      <td>98.240166</td>\n",
       "    </tr>\n",
       "    <tr>\n",
       "      <th>6</th>\n",
       "      <td>MNB</td>\n",
       "      <td>86.636771</td>\n",
       "      <td>98.975410</td>\n",
       "    </tr>\n",
       "    <tr>\n",
       "      <th>7</th>\n",
       "      <td>ABC</td>\n",
       "      <td>93.769470</td>\n",
       "      <td>97.861507</td>\n",
       "    </tr>\n",
       "  </tbody>\n",
       "</table>\n",
       "</div>"
      ],
      "text/plain": [
       "  Model  Accuracy Length  Accuracy Words of bags\n",
       "0    LR        86.292548               96.307385\n",
       "1   SVM        92.660550               86.636771\n",
       "2    RF        92.732856               89.693593\n",
       "3    NN        86.317723               99.376299\n",
       "4   KNN        90.234375               90.364827\n",
       "5   DTC        92.517695               98.240166\n",
       "6   MNB        86.636771               98.975410\n",
       "7   ABC        93.769470               97.861507"
      ]
     },
     "execution_count": 33,
     "metadata": {},
     "output_type": "execute_result"
    }
   ],
   "source": [
    "df3 = df1.merge(df2, on = \"Model\")\n",
    "df3"
   ]
  },
  {
   "cell_type": "markdown",
   "id": "fe3827d4",
   "metadata": {},
   "source": [
    "## Meting Accuracy data into a long format"
   ]
  },
  {
   "cell_type": "code",
   "execution_count": 34,
   "id": "05da16ce",
   "metadata": {},
   "outputs": [
    {
     "data": {
      "text/html": [
       "<div>\n",
       "<style scoped>\n",
       "    .dataframe tbody tr th:only-of-type {\n",
       "        vertical-align: middle;\n",
       "    }\n",
       "\n",
       "    .dataframe tbody tr th {\n",
       "        vertical-align: top;\n",
       "    }\n",
       "\n",
       "    .dataframe thead th {\n",
       "        text-align: right;\n",
       "    }\n",
       "</style>\n",
       "<table border=\"1\" class=\"dataframe\">\n",
       "  <thead>\n",
       "    <tr style=\"text-align: right;\">\n",
       "      <th></th>\n",
       "      <th>Model</th>\n",
       "      <th>Accuracy</th>\n",
       "      <th>value</th>\n",
       "    </tr>\n",
       "  </thead>\n",
       "  <tbody>\n",
       "    <tr>\n",
       "      <th>0</th>\n",
       "      <td>LR</td>\n",
       "      <td>Accuracy Length</td>\n",
       "      <td>86.292548</td>\n",
       "    </tr>\n",
       "    <tr>\n",
       "      <th>1</th>\n",
       "      <td>SVM</td>\n",
       "      <td>Accuracy Length</td>\n",
       "      <td>92.660550</td>\n",
       "    </tr>\n",
       "    <tr>\n",
       "      <th>2</th>\n",
       "      <td>RF</td>\n",
       "      <td>Accuracy Length</td>\n",
       "      <td>92.732856</td>\n",
       "    </tr>\n",
       "    <tr>\n",
       "      <th>3</th>\n",
       "      <td>NN</td>\n",
       "      <td>Accuracy Length</td>\n",
       "      <td>86.317723</td>\n",
       "    </tr>\n",
       "    <tr>\n",
       "      <th>4</th>\n",
       "      <td>KNN</td>\n",
       "      <td>Accuracy Length</td>\n",
       "      <td>90.234375</td>\n",
       "    </tr>\n",
       "    <tr>\n",
       "      <th>5</th>\n",
       "      <td>DTC</td>\n",
       "      <td>Accuracy Length</td>\n",
       "      <td>92.517695</td>\n",
       "    </tr>\n",
       "    <tr>\n",
       "      <th>6</th>\n",
       "      <td>MNB</td>\n",
       "      <td>Accuracy Length</td>\n",
       "      <td>86.636771</td>\n",
       "    </tr>\n",
       "    <tr>\n",
       "      <th>7</th>\n",
       "      <td>ABC</td>\n",
       "      <td>Accuracy Length</td>\n",
       "      <td>93.769470</td>\n",
       "    </tr>\n",
       "    <tr>\n",
       "      <th>8</th>\n",
       "      <td>LR</td>\n",
       "      <td>Accuracy Words of bags</td>\n",
       "      <td>96.307385</td>\n",
       "    </tr>\n",
       "    <tr>\n",
       "      <th>9</th>\n",
       "      <td>SVM</td>\n",
       "      <td>Accuracy Words of bags</td>\n",
       "      <td>86.636771</td>\n",
       "    </tr>\n",
       "    <tr>\n",
       "      <th>10</th>\n",
       "      <td>RF</td>\n",
       "      <td>Accuracy Words of bags</td>\n",
       "      <td>89.693593</td>\n",
       "    </tr>\n",
       "    <tr>\n",
       "      <th>11</th>\n",
       "      <td>NN</td>\n",
       "      <td>Accuracy Words of bags</td>\n",
       "      <td>99.376299</td>\n",
       "    </tr>\n",
       "    <tr>\n",
       "      <th>12</th>\n",
       "      <td>KNN</td>\n",
       "      <td>Accuracy Words of bags</td>\n",
       "      <td>90.364827</td>\n",
       "    </tr>\n",
       "    <tr>\n",
       "      <th>13</th>\n",
       "      <td>DTC</td>\n",
       "      <td>Accuracy Words of bags</td>\n",
       "      <td>98.240166</td>\n",
       "    </tr>\n",
       "    <tr>\n",
       "      <th>14</th>\n",
       "      <td>MNB</td>\n",
       "      <td>Accuracy Words of bags</td>\n",
       "      <td>98.975410</td>\n",
       "    </tr>\n",
       "    <tr>\n",
       "      <th>15</th>\n",
       "      <td>ABC</td>\n",
       "      <td>Accuracy Words of bags</td>\n",
       "      <td>97.861507</td>\n",
       "    </tr>\n",
       "  </tbody>\n",
       "</table>\n",
       "</div>"
      ],
      "text/plain": [
       "   Model                Accuracy      value\n",
       "0     LR         Accuracy Length  86.292548\n",
       "1    SVM         Accuracy Length  92.660550\n",
       "2     RF         Accuracy Length  92.732856\n",
       "3     NN         Accuracy Length  86.317723\n",
       "4    KNN         Accuracy Length  90.234375\n",
       "5    DTC         Accuracy Length  92.517695\n",
       "6    MNB         Accuracy Length  86.636771\n",
       "7    ABC         Accuracy Length  93.769470\n",
       "8     LR  Accuracy Words of bags  96.307385\n",
       "9    SVM  Accuracy Words of bags  86.636771\n",
       "10    RF  Accuracy Words of bags  89.693593\n",
       "11    NN  Accuracy Words of bags  99.376299\n",
       "12   KNN  Accuracy Words of bags  90.364827\n",
       "13   DTC  Accuracy Words of bags  98.240166\n",
       "14   MNB  Accuracy Words of bags  98.975410\n",
       "15   ABC  Accuracy Words of bags  97.861507"
      ]
     },
     "execution_count": 34,
     "metadata": {},
     "output_type": "execute_result"
    }
   ],
   "source": [
    "df_melt = pd.melt(df3, id_vars = ['Model'], var_name=\"Accuracy\", value_name='value')\n",
    "df_melt"
   ]
  },
  {
   "cell_type": "markdown",
   "id": "cce1a838",
   "metadata": {},
   "source": [
    "## Bar graph Showing Accuracies of different models"
   ]
  },
  {
   "cell_type": "code",
   "execution_count": 35,
   "id": "8aad2584",
   "metadata": {},
   "outputs": [
    {
     "data": {
      "image/png": "[encoded data removed]",
      "text/plain": [
       "<Figure size 875.625x360 with 1 Axes>"
      ]
     },
     "metadata": {
      "needs_background": "light"
     },
     "output_type": "display_data"
    }
   ],
   "source": [
    "\n",
    "sns.catplot(x = \"Model\", y = \"value\", hue ='Accuracy', data=df_melt, kind='bar', height=5, aspect=2)\n",
    "plt.title('Accuracy by Classifier', fontsize = 20, color = 'black')\n",
    "plt.ylabel('Accuracy Score',color=\"black\", fontsize = 15)\n",
    "plt.xticks(color= \"black\", fontsize = 15)\n",
    "plt.yticks(color= \"black\", fontsize = 15)\n",
    "plt.xlabel(\"Model\", color=\"black\", fontsize = 15)\n",
    "\n",
    "plt.show()"
   ]
  },
  {
   "cell_type": "markdown",
   "id": "cdcaec8e",
   "metadata": {},
   "source": [
    "Countvectorizer:\n",
    "* TF-IDF Vectorizer:\n",
    "* stopwords get removed\n",
    "* Words Stemmed"
   ]
  },
  {
   "cell_type": "markdown",
   "id": "b0fed2bd",
   "metadata": {},
   "source": [
    "## Stemming\n",
    "Stemming is a technique used to reduce an inflected word down to its word stem. For example, the words “programming,” “programmer,” and “programs” can all be reduced down to the common word stem “program.” In other words, “program” can be used as a synonym for the prior three inflection words. \n",
    "\n",
    "Performing this text-processing technique is often useful for dealing with sparsity and/or standardizing vocabulary. Not only does it help with reducing redundancy, as most of the time the word stem and their inflected words have the same meaning, it also allows NLP models to learn links between inflected words and their word stem, which helps the model understand their usage in similar contexts. \n",
    "\n",
    "Stemming algorithms function by taking a list of frequent prefixes and suffixes found in inflected words and chopping off the end or beginning of the word. This can occasionally result in word stems that are not real words; thus, we can affirm this approach certainly has its pros, but it’s not without its limitations. "
   ]
  },
  {
   "cell_type": "code",
   "execution_count": 36,
   "id": "855fabe7",
   "metadata": {},
   "outputs": [],
   "source": [
    "def get_final_text(stemmed_text):\n",
    "    final_text = \" \".join([word for word in stemmed_text])\n",
    "    return final_text"
   ]
  },
  {
   "cell_type": "code",
   "execution_count": 37,
   "id": "f493037e",
   "metadata": {},
   "outputs": [
    {
     "data": {
      "text/html": [
       "<div>\n",
       "<style scoped>\n",
       "    .dataframe tbody tr th:only-of-type {\n",
       "        vertical-align: middle;\n",
       "    }\n",
       "\n",
       "    .dataframe tbody tr th {\n",
       "        vertical-align: top;\n",
       "    }\n",
       "\n",
       "    .dataframe thead th {\n",
       "        text-align: right;\n",
       "    }\n",
       "</style>\n",
       "<table border=\"1\" class=\"dataframe\">\n",
       "  <thead>\n",
       "    <tr style=\"text-align: right;\">\n",
       "      <th></th>\n",
       "      <th>label</th>\n",
       "      <th>text</th>\n",
       "      <th>stemmed_text</th>\n",
       "      <th>final_text</th>\n",
       "    </tr>\n",
       "  </thead>\n",
       "  <tbody>\n",
       "    <tr>\n",
       "      <th>0</th>\n",
       "      <td>ham</td>\n",
       "      <td>[Go, until, jurong, point,, crazy.., Available...</td>\n",
       "      <td>[go, until, jurong, point,, crazy.., avail, on...</td>\n",
       "      <td>go until jurong point, crazy.. avail onli in b...</td>\n",
       "    </tr>\n",
       "    <tr>\n",
       "      <th>1</th>\n",
       "      <td>ham</td>\n",
       "      <td>[Ok, lar..., Joking, wif, u, oni...]</td>\n",
       "      <td>[ok, lar..., joke, wif, u, oni...]</td>\n",
       "      <td>ok lar... joke wif u oni...</td>\n",
       "    </tr>\n",
       "    <tr>\n",
       "      <th>2</th>\n",
       "      <td>spam</td>\n",
       "      <td>[Free, entry, in, 2, a, wkly, comp, to, win, F...</td>\n",
       "      <td>[free, entri, in, 2, a, wkli, comp, to, win, f...</td>\n",
       "      <td>free entri in 2 a wkli comp to win fa cup fina...</td>\n",
       "    </tr>\n",
       "    <tr>\n",
       "      <th>3</th>\n",
       "      <td>ham</td>\n",
       "      <td>[U, dun, say, so, early, hor..., U, c, already...</td>\n",
       "      <td>[u, dun, say, so, earli, hor..., u, c, alreadi...</td>\n",
       "      <td>u dun say so earli hor... u c alreadi then say...</td>\n",
       "    </tr>\n",
       "    <tr>\n",
       "      <th>4</th>\n",
       "      <td>ham</td>\n",
       "      <td>[Nah, I, don't, think, he, goes, to, usf,, he,...</td>\n",
       "      <td>[nah, i, don't, think, he, goe, to, usf,, he, ...</td>\n",
       "      <td>nah i don't think he goe to usf, he live aroun...</td>\n",
       "    </tr>\n",
       "  </tbody>\n",
       "</table>\n",
       "</div>"
      ],
      "text/plain": [
       "  label                                               text  \\\n",
       "0   ham  [Go, until, jurong, point,, crazy.., Available...   \n",
       "1   ham               [Ok, lar..., Joking, wif, u, oni...]   \n",
       "2  spam  [Free, entry, in, 2, a, wkly, comp, to, win, F...   \n",
       "3   ham  [U, dun, say, so, early, hor..., U, c, already...   \n",
       "4   ham  [Nah, I, don't, think, he, goes, to, usf,, he,...   \n",
       "\n",
       "                                        stemmed_text  \\\n",
       "0  [go, until, jurong, point,, crazy.., avail, on...   \n",
       "1                 [ok, lar..., joke, wif, u, oni...]   \n",
       "2  [free, entri, in, 2, a, wkli, comp, to, win, f...   \n",
       "3  [u, dun, say, so, earli, hor..., u, c, alreadi...   \n",
       "4  [nah, i, don't, think, he, goe, to, usf,, he, ...   \n",
       "\n",
       "                                          final_text  \n",
       "0  go until jurong point, crazy.. avail onli in b...  \n",
       "1                        ok lar... joke wif u oni...  \n",
       "2  free entri in 2 a wkli comp to win fa cup fina...  \n",
       "3  u dun say so earli hor... u c alreadi then say...  \n",
       "4  nah i don't think he goe to usf, he live aroun...  "
      ]
     },
     "execution_count": 37,
     "metadata": {},
     "output_type": "execute_result"
    }
   ],
   "source": [
    "stemmer = PorterStemmer()\n",
    "data = pd.read_csv('spam.csv', encoding='latin-1')\n",
    "data.drop(['Unnamed: 2','Unnamed: 3','Unnamed: 4'], axis=1, inplace=True)\n",
    "data.columns= ['label', 'text']\n",
    "data.text = data['text'].str.split()\n",
    "data['stemmed_text'] = data['text'].apply(lambda x: [stemmer.stem(y) for y in x])\n",
    "data['final_text'] = data['stemmed_text'].apply(lambda row: get_final_text(row))\n",
    "data.head()\n"
   ]
  },
  {
   "cell_type": "code",
   "execution_count": 38,
   "id": "52bbf479",
   "metadata": {},
   "outputs": [],
   "source": [
    "X = data['final_text']\n",
    "y = data['label']\n",
    "X_train , X_test, y_train, y_test = train_test_split(X, y, test_size=0.2, random_state=123, stratify=y)"
   ]
  },
  {
   "cell_type": "code",
   "execution_count": 39,
   "id": "33e0cf0d",
   "metadata": {},
   "outputs": [
    {
     "name": "stdout",
     "output_type": "stream",
     "text": [
      "Model tested: LR\n",
      "Confusion Matrix\n",
      "      ham  spam\n",
      "ham   963     3\n",
      "spam   34   115\n",
      "Accuracy = 96.68%\n",
      "Error rate = 3.32%\n",
      "Recall rate = [99.68944099 77.18120805]%\n",
      "Precision rate = [96.58976931 97.45762712]%\n",
      "              precision    recall  f1-score   support\n",
      "\n",
      "         ham       0.97      1.00      0.98       966\n",
      "        spam       0.97      0.77      0.86       149\n",
      "\n",
      "    accuracy                           0.97      1115\n",
      "   macro avg       0.97      0.88      0.92      1115\n",
      "weighted avg       0.97      0.97      0.97      1115\n",
      "\n",
      "\n",
      "Model tested: SVM\n",
      "Confusion Matrix\n",
      "      ham  spam\n",
      "ham   966     0\n",
      "spam  149     0\n",
      "Accuracy = 86.64%\n",
      "Error rate = 13.36%\n",
      "Recall rate = [100.   0.]%\n",
      "Precision rate = [86.6367713  0.       ]%\n",
      "              precision    recall  f1-score   support\n",
      "\n",
      "         ham       0.87      1.00      0.93       966\n",
      "        spam       0.00      0.00      0.00       149\n",
      "\n",
      "    accuracy                           0.87      1115\n",
      "   macro avg       0.43      0.50      0.46      1115\n",
      "weighted avg       0.75      0.87      0.80      1115\n",
      "\n",
      "\n",
      "Model tested: RF\n",
      "Confusion Matrix\n",
      "      ham  spam\n",
      "ham   966     0\n",
      "spam  112    37\n",
      "Accuracy = 89.96%\n",
      "Error rate = 10.04%\n",
      "Recall rate = [100.          24.83221477]%\n",
      "Precision rate = [ 89.61038961 100.        ]%\n",
      "              precision    recall  f1-score   support\n",
      "\n",
      "         ham       0.90      1.00      0.95       966\n",
      "        spam       1.00      0.25      0.40       149\n",
      "\n",
      "    accuracy                           0.90      1115\n",
      "   macro avg       0.95      0.62      0.67      1115\n",
      "weighted avg       0.91      0.90      0.87      1115\n",
      "\n",
      "\n",
      "Model tested: NN\n",
      "Confusion Matrix\n",
      "      ham  spam\n",
      "ham   954    12\n",
      "spam    6   143\n",
      "Accuracy = 98.39%\n",
      "Error rate = 1.61%\n",
      "Recall rate = [98.75776398 95.97315436]%\n",
      "Precision rate = [99.375      92.25806452]%\n",
      "              precision    recall  f1-score   support\n",
      "\n",
      "         ham       0.99      0.99      0.99       966\n",
      "        spam       0.92      0.96      0.94       149\n",
      "\n",
      "    accuracy                           0.98      1115\n",
      "   macro avg       0.96      0.97      0.97      1115\n",
      "weighted avg       0.98      0.98      0.98      1115\n",
      "\n",
      "\n",
      "Model tested: KNN\n",
      "Confusion Matrix\n",
      "      ham  spam\n",
      "ham   966     0\n",
      "spam  105    44\n",
      "Accuracy = 90.58%\n",
      "Error rate = 9.42%\n",
      "Recall rate = [100.          29.53020134]%\n",
      "Precision rate = [ 90.19607843 100.        ]%\n",
      "              precision    recall  f1-score   support\n",
      "\n",
      "         ham       0.90      1.00      0.95       966\n",
      "        spam       1.00      0.30      0.46       149\n",
      "\n",
      "    accuracy                           0.91      1115\n",
      "   macro avg       0.95      0.65      0.70      1115\n",
      "weighted avg       0.92      0.91      0.88      1115\n",
      "\n",
      "\n",
      "Model tested: DTC\n",
      "Confusion Matrix\n",
      "      ham  spam\n",
      "ham   951    15\n",
      "spam   20   129\n",
      "Accuracy = 96.86%\n",
      "Error rate = 3.14%\n",
      "Recall rate = [98.44720497 86.57718121]%\n",
      "Precision rate = [97.94026777 89.58333333]%\n",
      "              precision    recall  f1-score   support\n",
      "\n",
      "         ham       0.98      0.98      0.98       966\n",
      "        spam       0.90      0.87      0.88       149\n",
      "\n",
      "    accuracy                           0.97      1115\n",
      "   macro avg       0.94      0.93      0.93      1115\n",
      "weighted avg       0.97      0.97      0.97      1115\n",
      "\n",
      "\n",
      "Model tested: MNB\n",
      "Confusion Matrix\n",
      "      ham  spam\n",
      "ham   965     1\n",
      "spam   11   138\n",
      "Accuracy = 98.92%\n",
      "Error rate = 1.08%\n",
      "Recall rate = [99.89648033 92.61744966]%\n",
      "Precision rate = [98.87295082 99.28057554]%\n",
      "              precision    recall  f1-score   support\n",
      "\n",
      "         ham       0.99      1.00      0.99       966\n",
      "        spam       0.99      0.93      0.96       149\n",
      "\n",
      "    accuracy                           0.99      1115\n",
      "   macro avg       0.99      0.96      0.98      1115\n",
      "weighted avg       0.99      0.99      0.99      1115\n",
      "\n",
      "\n",
      "Model tested: ABC\n",
      "Confusion Matrix\n",
      "      ham  spam\n",
      "ham   961     5\n",
      "spam   16   133\n",
      "Accuracy = 98.12%\n",
      "Error rate = 1.88%\n",
      "Recall rate = [99.48240166 89.26174497]%\n",
      "Precision rate = [98.36233367 96.37681159]%\n",
      "              precision    recall  f1-score   support\n",
      "\n",
      "         ham       0.98      0.99      0.99       966\n",
      "        spam       0.96      0.89      0.93       149\n",
      "\n",
      "    accuracy                           0.98      1115\n",
      "   macro avg       0.97      0.94      0.96      1115\n",
      "weighted avg       0.98      0.98      0.98      1115\n",
      "\n",
      "\n"
     ]
    }
   ],
   "source": [
    "results3 =[]\n",
    "\n",
    "for name, model in models:\n",
    "    text_clf = Pipeline([('tfidf', TfidfVectorizer(stop_words='english')), (name, model)])\n",
    "    text_clf.fit(X_train, y_train)\n",
    "    pred = text_clf.predict(X_test)\n",
    "    acc = round(accuracy_score(y_test, pred)*100, 2)\n",
    "    precision = precision_score(y_test, pred, average=None)*100\n",
    "    recall = recall_score(y_test, pred, average=None)*100\n",
    "    error_rate = round(100- acc, 2)\n",
    "    cm = pd.DataFrame(metrics.confusion_matrix(y_test, pred), index = ['ham', 'spam'], columns = ['ham', 'spam'])\n",
    "    print('Model tested: {}'.format(name))\n",
    "    print('Confusion Matrix')\n",
    "    print(cm)\n",
    "    print('Accuracy = {}%'.format(acc))\n",
    "    print('Error rate = {}%'.format(error_rate))\n",
    "    print('Recall rate = {}%'.format(recall))\n",
    "    print('Precision rate = {}%'.format(precision))\n",
    "    print(metrics.classification_report(y_test, pred))\n",
    "    print()\n",
    "    results3.append([name, precision])\n",
    "    "
   ]
  },
  {
   "cell_type": "code",
   "execution_count": 40,
   "id": "a85138ef",
   "metadata": {},
   "outputs": [
    {
     "data": {
      "text/html": [
       "<div>\n",
       "<style scoped>\n",
       "    .dataframe tbody tr th:only-of-type {\n",
       "        vertical-align: middle;\n",
       "    }\n",
       "\n",
       "    .dataframe tbody tr th {\n",
       "        vertical-align: top;\n",
       "    }\n",
       "\n",
       "    .dataframe thead th {\n",
       "        text-align: right;\n",
       "    }\n",
       "</style>\n",
       "<table border=\"1\" class=\"dataframe\">\n",
       "  <thead>\n",
       "    <tr style=\"text-align: right;\">\n",
       "      <th></th>\n",
       "      <th>Model</th>\n",
       "      <th>Accuracy After Stemming</th>\n",
       "    </tr>\n",
       "  </thead>\n",
       "  <tbody>\n",
       "    <tr>\n",
       "      <th>0</th>\n",
       "      <td>LR</td>\n",
       "      <td>96.589769</td>\n",
       "    </tr>\n",
       "    <tr>\n",
       "      <th>1</th>\n",
       "      <td>SVM</td>\n",
       "      <td>86.636771</td>\n",
       "    </tr>\n",
       "    <tr>\n",
       "      <th>2</th>\n",
       "      <td>RF</td>\n",
       "      <td>89.610390</td>\n",
       "    </tr>\n",
       "    <tr>\n",
       "      <th>3</th>\n",
       "      <td>NN</td>\n",
       "      <td>99.375000</td>\n",
       "    </tr>\n",
       "    <tr>\n",
       "      <th>4</th>\n",
       "      <td>KNN</td>\n",
       "      <td>90.196078</td>\n",
       "    </tr>\n",
       "    <tr>\n",
       "      <th>5</th>\n",
       "      <td>DTC</td>\n",
       "      <td>97.940268</td>\n",
       "    </tr>\n",
       "    <tr>\n",
       "      <th>6</th>\n",
       "      <td>MNB</td>\n",
       "      <td>98.872951</td>\n",
       "    </tr>\n",
       "    <tr>\n",
       "      <th>7</th>\n",
       "      <td>ABC</td>\n",
       "      <td>98.362334</td>\n",
       "    </tr>\n",
       "  </tbody>\n",
       "</table>\n",
       "</div>"
      ],
      "text/plain": [
       "  Model  Accuracy After Stemming\n",
       "0    LR                96.589769\n",
       "1   SVM                86.636771\n",
       "2    RF                89.610390\n",
       "3    NN                99.375000\n",
       "4   KNN                90.196078\n",
       "5   DTC                97.940268\n",
       "6   MNB                98.872951\n",
       "7   ABC                98.362334"
      ]
     },
     "execution_count": 40,
     "metadata": {},
     "output_type": "execute_result"
    }
   ],
   "source": [
    "dfs = pd.DataFrame(results3, columns=['Model', 'Accuracy After Stemming'])\n",
    "dfs['Accuracy After Stemming'] = dfs['Accuracy After Stemming'].apply(lambda x: x[0])\n",
    "dfs"
   ]
  },
  {
   "cell_type": "code",
   "execution_count": 41,
   "id": "a4948868",
   "metadata": {},
   "outputs": [
    {
     "data": {
      "image/png": "[encoded data removed]",
      "text/plain": [
       "<Figure size 936x432 with 1 Axes>"
      ]
     },
     "metadata": {
      "needs_background": "light"
     },
     "output_type": "display_data"
    }
   ],
   "source": [
    "plot_order = dfs.groupby('Model')['Accuracy After Stemming'].sum().sort_values(ascending=True).index.values\n",
    "plt.figure(figsize =(13,6))\n",
    "sns.set_style('darkgrid')\n",
    "sns.barplot(x = \"Model\", y=\"Accuracy After Stemming\", order=plot_order, data=dfs)\n",
    "plt.title(\"Accuracy After Stemming\", fontsize = 20, color= \"black\")\n",
    "plt.xticks(color= \"black\", fontsize = 15)\n",
    "plt.yticks(color= \"black\", fontsize = 15)\n",
    "plt.xlabel(\"Model\", color=\"black\", fontsize = 15)\n",
    "plt.ylabel(\"Accuracy After Stemming\", color=\"black\", fontsize = 15)\n",
    "plt.show()"
   ]
  },
  {
   "cell_type": "code",
   "execution_count": null,
   "id": "036d6ce6",
   "metadata": {},
   "outputs": [],
   "source": []
  }
 ],
 "metadata": {
  "hide_input": false,
  "kernelspec": {
   "display_name": "Python 3 (ipykernel)",
   "language": "python",
   "name": "python3"
  },
  "language_info": {
   "codemirror_mode": {
    "name": "ipython",
    "version": 3
   },
   "file_extension": ".py",
   "mimetype": "text/x-python",
   "name": "python",
   "nbconvert_exporter": "python",
   "pygments_lexer": "ipython3",
   "version": "3.10.4"
  },
  "toc": {
   "base_numbering": 1,
   "nav_menu": {},
   "number_sections": true,
   "sideBar": true,
   "skip_h1_title": false,
   "title_cell": "Table of Contents",
   "title_sidebar": "Contents",
   "toc_cell": false,
   "toc_position": {},
   "toc_section_display": true,
   "toc_window_display": false
  }
 },
 "nbformat": 4,
 "nbformat_minor": 5
}
